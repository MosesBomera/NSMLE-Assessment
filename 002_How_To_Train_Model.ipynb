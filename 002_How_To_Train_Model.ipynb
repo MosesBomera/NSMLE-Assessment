{
 "cells": [
  {
   "cell_type": "markdown",
   "id": "a6989cfe-43f1-44b0-8f00-866eceac8fe3",
   "metadata": {},
   "source": [
    "**A step by step guide on how to preprocess your data, train models, and evaluate their performance using the utilities in each file.**"
   ]
  },
  {
   "cell_type": "markdown",
   "id": "b6e2f3e2-27fc-48d6-b966-7fbac627d104",
   "metadata": {},
   "source": [
    "# Import Libraries"
   ]
  },
  {
   "cell_type": "code",
   "execution_count": 1,
   "id": "2060a138-0e4b-4761-acf1-84dfab4800cf",
   "metadata": {},
   "outputs": [],
   "source": [
    "import pandas as pd\n",
    "from pathlib import Path\n",
    "from train_utils.feature_engineering import preprocess_dataframe, extract_historical_loan_features, calculate_loan_repayment_features\n",
    "from train_utils.run_training import run_training\n",
    "from sklearn.linear_model import LogisticRegressionCV\n",
    "from sklearn.ensemble import RandomForestClassifier"
   ]
  },
  {
   "cell_type": "markdown",
   "id": "608c21d6-acd0-44f4-8d1c-17a154c7a1f6",
   "metadata": {},
   "source": [
    "# Feature Engineering"
   ]
  },
  {
   "cell_type": "code",
   "execution_count": 2,
   "id": "59f992a9-d159-44e1-8af2-6d47ce410e3f",
   "metadata": {},
   "outputs": [],
   "source": [
    "# File paths\n",
    "data_dir = Path('machine-learning/')\n",
    "\n",
    "# Load and preprocess the loan data\n",
    "train_loan_data = preprocess_dataframe(pd.read_csv(data_dir / \"train_loan_data.csv\"))\n",
    "train_repayment_data = preprocess_dataframe(pd.read_csv(data_dir / \"train_payment_data.csv\", parse_dates=['paid_at']))\n",
    "\n",
    "# Extract features\n",
    "historical_loan_features = extract_historical_loan_features(\n",
    "    train_loan_data, \n",
    "    known_approval_statuses=['Approved', 'Declined', 'Cancelled', 'Expired']\n",
    ")\n",
    "\n",
    "historical_repayment_features = calculate_loan_repayment_features(\n",
    "    train_repayment_data, \n",
    "    transaction_types=['Deposit', 'Discount']\n",
    ")\n",
    "\n",
    "# Add target and metadata to aid with feature data train test splitting.\n",
    "historical_loan_features = pd.merge(\n",
    "    left=historical_loan_features,\n",
    "    right=train_loan_data[['loan_id', 'business_id', 'application_number', 'loan_number', 'paid_late', 'sector']]\n",
    ")\n",
    "\n",
    "# Merge feature data\n",
    "feature_data = pd.merge(\n",
    "    left=historical_loan_features,\n",
    "    right=historical_repayment_features,\n",
    "    left_on='last_approved_loan_id',\n",
    "    right_on='loan_id'\n",
    ")\n",
    "feature_data['paid_late'] = feature_data['paid_late'].astype(int)"
   ]
  },
  {
   "cell_type": "markdown",
   "id": "b60d44b2-9b52-487e-9186-dc04f4202520",
   "metadata": {},
   "source": [
    "# Model Training"
   ]
  },
  {
   "cell_type": "code",
   "execution_count": 17,
   "id": "082cd4a9-2f3a-43a8-9df6-d814c1c0f131",
   "metadata": {},
   "outputs": [
    {
     "name": "stdout",
     "output_type": "stream",
     "text": [
      "Fitting 5 folds for each of 1 candidates, totalling 5 fits\n"
     ]
    }
   ],
   "source": [
    "numerical_features = [\n",
    "    'num_previous_applications', 'mean_principal_previous', 'mean_owing_previous', \n",
    "    'mean_employee_count_previous', 'num_approved_previous', 'num_declined_previous', \n",
    "    'num_cancelled_previous', 'num_expired_previous', 'total_amount_paid', 'num_payments', \n",
    "    'max_payment_amount', 'duration', 'single_repayment', 'num_Deposit', 'total_Deposit_amount', \n",
    "    'num_Discount', 'total_Discount_amount'\n",
    "]\n",
    "\n",
    "categorical_features = []  # Add categorical feature names.\n",
    "\n",
    "# Set model\n",
    "model = LogisticRegressionCV()\n",
    "# model = RandomForestClassifier()\n",
    "\n",
    "model_params = {\n",
    "    'logisticregressioncv__class_weight': ['balanced'],\n",
    "    'logisticregressioncv__random_state': [42],\n",
    "    'logisticregressioncv__max_iter': [1000]\n",
    "}\n",
    "# model_params = {\n",
    "#     'randomforestclassifier__n_estimators':[100, 200]\n",
    "# }\n",
    "\n",
    "# Loss function\n",
    "scoring = 'neg_log_loss'\n",
    "# scoring='accuracy'\n",
    "\n",
    "# Call the training function\n",
    "trained_model, evaluation = run_training(\n",
    "    feature_data, \n",
    "    numerical_features, \n",
    "    categorical_features, \n",
    "    model, \n",
    "    model_params, \n",
    "    scoring=scoring\n",
    ")"
   ]
  },
  {
   "cell_type": "markdown",
   "id": "660f0014-192b-4e0e-b732-0eef967d1663",
   "metadata": {},
   "source": [
    "# Evaluation"
   ]
  },
  {
   "cell_type": "code",
   "execution_count": 18,
   "id": "50c8d521-1b15-4929-a8f9-71d907fec68f",
   "metadata": {},
   "outputs": [
    {
     "data": {
      "text/plain": [
       "{'precision': 0.034812880765883375,\n",
       " 'recall': 0.5517241379310345,\n",
       " 'f1_score': 0.06549324600900532,\n",
       " 'confusion_matrix': array([[2593, 2218],\n",
       "        [  65,   80]])}"
      ]
     },
     "execution_count": 18,
     "metadata": {},
     "output_type": "execute_result"
    }
   ],
   "source": [
    "evaluation.test_metrics"
   ]
  },
  {
   "cell_type": "code",
   "execution_count": 19,
   "id": "97618482-a0f8-4886-b649-d279f4868743",
   "metadata": {},
   "outputs": [
    {
     "data": {
      "text/plain": [
       "{'precision': 0.03437024146182293,\n",
       " 'recall': 0.42934782608695654,\n",
       " 'f1_score': 0.06364551863041289,\n",
       " 'confusion_matrix': array([[7976, 4439],\n",
       "        [ 210,  158]])}"
      ]
     },
     "execution_count": 19,
     "metadata": {},
     "output_type": "execute_result"
    }
   ],
   "source": [
    "evaluation.train_metrics"
   ]
  },
  {
   "cell_type": "code",
   "execution_count": null,
   "id": "e31d0da6-3bbc-45b3-a154-4aa4c1d008ba",
   "metadata": {},
   "outputs": [],
   "source": []
  },
  {
   "cell_type": "code",
   "execution_count": null,
   "id": "0ed574e1-a77a-4719-80ac-add4155ce359",
   "metadata": {},
   "outputs": [],
   "source": []
  }
 ],
 "metadata": {
  "kernelspec": {
   "display_name": "Python 3 (ipykernel)",
   "language": "python",
   "name": "python3"
  },
  "language_info": {
   "codemirror_mode": {
    "name": "ipython",
    "version": 3
   },
   "file_extension": ".py",
   "mimetype": "text/x-python",
   "name": "python",
   "nbconvert_exporter": "python",
   "pygments_lexer": "ipython3",
   "version": "3.11.7"
  }
 },
 "nbformat": 4,
 "nbformat_minor": 5
}
